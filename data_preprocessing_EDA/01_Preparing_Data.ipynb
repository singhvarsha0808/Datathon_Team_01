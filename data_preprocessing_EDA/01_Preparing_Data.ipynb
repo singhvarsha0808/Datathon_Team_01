{
 "cells": [
  {
   "cell_type": "code",
   "execution_count": 1,
   "id": "9f433559",
   "metadata": {},
   "outputs": [],
   "source": [
    "import numpy as np\n",
    "import pandas as pd\n",
    "import sqlite3\n",
    "import warnings\n",
    "warnings.filterwarnings(\"ignore\")"
   ]
  },
  {
   "cell_type": "markdown",
   "id": "1fef7d01",
   "metadata": {},
   "source": [
    "# Part 1. Subject selection\n",
    "- Step 1. Selecting non-emergency cases only\n",
    "- Step 2. Selecting patients with lab data captured betweend 0.5 and 14 day before the anesthesia and 48 hours after the surgery"
   ]
  },
  {
   "cell_type": "code",
   "execution_count": 2,
   "id": "e99a3885",
   "metadata": {},
   "outputs": [
    {
     "name": "stdout",
     "output_type": "stream",
     "text": [
      "Non-em cases:  5606\n",
      "Patients with lab data captured before the anesthesia:  5049\n",
      "Patients with lab data captured before the anesthesia and 48 hours after the operation:  4221\n"
     ]
    }
   ],
   "source": [
    "data = pd.read_csv('https://api.vitaldb.net/cases')\n",
    "\n",
    "###### step 1\n",
    "data = data[data.emop == 0]\n",
    "print('Non-em cases: ', data.caseid.nunique())\n",
    "\n",
    "\n",
    "###### step 2\n",
    "lab_results = pd.read_csv('https://api.vitaldb.net/labs')\n",
    "lab_results = lab_results[lab_results.caseid.isin(data.caseid)]\n",
    "\n",
    "# map the anesthesia start and operation end tiempoint\n",
    "for col in ['opend', 'anestart']:\n",
    "    lab_results[col] = lab_results.caseid.map(dict(zip(data.caseid, data[col])))\n",
    "    \n",
    "# select patients with data captured before ane or data after surgery\n",
    "lab_results = lab_results[(lab_results.dt < lab_results.anestart) | (lab_results.dt > lab_results.opend)]\n",
    "print('Patients with lab data captured before the anesthesia: ', lab_results.caseid.nunique())\n",
    "\n",
    "# calculte hour different between the time of preoperative/postoperative records\n",
    "# and the time when anesthetia started/operation ended\n",
    "lab_results['days_preane'] = (lab_results.anestart -  lab_results.dt) / 60 / 60 / 24\n",
    "lab_results['days_posop'] = (lab_results.dt - lab_results.opend) / 60 / 60 / 24\n",
    "# selecting patients with records 0.5 - 14 days earlier than the anesthesia\n",
    "lab_results['preane_avail'] = lab_results.days_preane.apply(lambda x: 1 if x >= 0.5 and x <= 14 else 0)\n",
    "lab_results['postop_avail'] = lab_results.days_posop.apply(lambda x: 1 if x >= 2 else 0)\n",
    "record_count = lab_results[['caseid', 'name', 'preane_avail']].groupby(['caseid', 'name']).sum().reset_index()\n",
    "record_count.preane_avail = record_count.preane_avail.apply(lambda x: 1 if x > 0 else 0)\n",
    "selected_patients = record_count[record_count.preane_avail == 1].caseid.unique().tolist()\n",
    "print('Patients with lab data captured before the anesthesia and 48 hours after the operation: ', len(selected_patients))"
   ]
  },
  {
   "cell_type": "markdown",
   "id": "4b2ab642",
   "metadata": {},
   "source": [
    "# Part 2. Defining complications\n",
    "- Length of icu stay >= 2 days\n",
    "- In-hospital mortality\n",
    "- Post/pre Cretanine >= 1.5 times (48 hours after the operation)"
   ]
  },
  {
   "cell_type": "code",
   "execution_count": 3,
   "id": "0f77db40",
   "metadata": {},
   "outputs": [
    {
     "name": "stdout",
     "output_type": "stream",
     "text": [
      "Patients with postoperative complictions:  304\n"
     ]
    }
   ],
   "source": [
    "def get_cr_diff(pre, post):\n",
    "    try:\n",
    "        return post / pre\n",
    "    except:\n",
    "        return np.nan\n",
    "    \n",
    "creatamine_after = lab_results[(lab_results.name == 'cr') & (lab_results.postop_avail == 1)]\n",
    "creatamine_after = creatamine_after.sort_values(by=['caseid', 'name', 'days_posop']).drop_duplicates(keep='first')\n",
    "data['postop_cr'] = data.caseid.map(dict(zip(creatamine_after.caseid, creatamine_after.result)))\n",
    "data['pre_post_cr'] = data.apply(lambda x: get_cr_diff(x.preop_cr, x.postop_cr), axis=1) \n",
    "data['complications'] = data.apply(lambda x: 1 if any([x.death_inhosp == 1,\n",
    "                                              x.icu_days >= 2,\n",
    "                                              x.pre_post_cr >= 1.5]) else 0, axis=1)\n",
    "print('Patients with postoperative complictions: ', data[data.complications == 1].caseid.nunique())"
   ]
  },
  {
   "cell_type": "markdown",
   "id": "77b545c6",
   "metadata": {},
   "source": [
    "# Part 3. Pulling lab data"
   ]
  },
  {
   "cell_type": "code",
   "execution_count": 4,
   "id": "5b530418",
   "metadata": {},
   "outputs": [],
   "source": [
    "b4 = lab_results[lab_results.caseid.isin(selected_patients)]\n",
    "b4 = b4.sort_values(by=['caseid', 'name', 'days_preane'], ascending=[True, True, False])\n",
    "b4 = b4.drop_duplicates(subset=['caseid', 'name'], keep='first')\n",
    "b4 = b4[['caseid', 'dt', 'name', 'result', 'days_preane']]\n",
    "b4.to_excel('00_preop_lab_results_extrated.xlsx', index = False)\n",
    "# pivot lab data\n",
    "b4 = b4[['caseid', 'name', 'result']]\n",
    "b4 = b4.pivot(index=['caseid'], columns='name', values='result')\n",
    "b4.columns = ['b4_' + x for x in list(b4.columns)]\n",
    "b4 = b4.reset_index()\n",
    "b4.to_excel('00_preop_lab_results_pivoted.xlsx', index = False)"
   ]
  },
  {
   "cell_type": "markdown",
   "id": "7ddbb479",
   "metadata": {},
   "source": [
    "# Part 4. Prepropcess data"
   ]
  },
  {
   "cell_type": "code",
   "execution_count": 5,
   "id": "1ec63407",
   "metadata": {},
   "outputs": [
    {
     "data": {
      "text/plain": [
       "{'optype': '0: Colorectal | 1: Biliary/Pancreas | 2: Stomach | 3: Major resection | 4: Others | 5: Minor resection | 6: Breast | 7: Transplantation | 8: Thyroid | 9: Hepatic | 10: Vascular',\n",
       " 'approach': '0: Open | 1: Videoscopic | 2: Robotic',\n",
       " 'ane_type': '0: General | 1: Spinal | 2: Sedationalgesia',\n",
       " 'preop_pft': '0: Normal | 1: Mild obstructive | 2: Mild restrictive | 3: Moderate obstructive | 4: Mixed or pure obstructive | 5: Severe restrictive | 6: Moderate restrictive | 7: Borderline obstructive | 8: Severe obstructive',\n",
       " 'asa': '0: cat02 | 1: cat01 | 2: cat03 | 3: cat07 | 4: cat06 | 5: cat04'}"
      ]
     },
     "execution_count": 5,
     "metadata": {},
     "output_type": "execute_result"
    }
   ],
   "source": [
    "def onehot(df, labels, variable='department'):\n",
    "    cols_add = []\n",
    "    labels = {x.split(': ')[1]: x.split(': ')[0]  for x in labels.split(' | ')}\n",
    "    values = df[variable].map(labels).apply(lambda x: str(x).zfill(2))\n",
    "    cols_add = [variable + '_' + v for v in list(labels.values())]\n",
    "    dummies = pd.get_dummies(values, prefix=variable)\n",
    "    return dummies, values\n",
    "\n",
    "cols = ['caseid', 'complications', 'icu_days', 'death_inhosp', 'pre_post_cr', 'age', 'sex', 'height',\n",
    "        'weight', 'bmi', 'asa', 'optype', 'approach', 'emop', 'ane_type',\n",
    "        'preop_htn', 'preop_dm', 'preop_arrhythmia', 'preop_pft']\n",
    "data = data[[x for x in cols if x in data.columns]]\n",
    "data.asa = data.asa.fillna(7).apply(lambda x: 'cat' + str(int(float(x))).zfill(2)).astype(str)\n",
    "data['sex'] = data.sex.map({'M': 0, 'F': 1}).astype(int)\n",
    "variables_labels = {}\n",
    "cols_to_rm = ['optype', 'approach', 'ane_type', 'preop_pft', 'asa']\n",
    "for col in cols_to_rm:\n",
    "    keys = list(dict(data[col].value_counts()).keys())\n",
    "    label = ' | '.join(['%s: %s'%(i, keys[i]) for i in range(len(keys))])\n",
    "    variables_labels[col] = label\n",
    "    values, values_old = onehot(data, label, variable=col)\n",
    "    data[col] = values_old\n",
    "    data = pd.concat([data, values], axis=1)\n",
    "\n",
    "variables_labels"
   ]
  },
  {
   "cell_type": "code",
   "execution_count": 6,
   "id": "7a1add5f",
   "metadata": {},
   "outputs": [
    {
     "name": "stdout",
     "output_type": "stream",
     "text": [
      "Selected patients with postoperative complications:  264\n"
     ]
    }
   ],
   "source": [
    "data = data.merge(b4, on=['caseid'], how='outer')\n",
    "selected_data = data[data.caseid.isin(selected_patients)]\n",
    "excluded_data = data[~data.caseid.isin(selected_patients)]\n",
    "selected_data.to_excel('01_data_compiled_selected_patients_4221.xlsx', index=False)\n",
    "excluded_data.to_excel('01_data_compiled_excluded_patients_1385.xlsx', index=False)\n",
    "\n",
    "print('Selected patients with postoperative complications: ',\n",
    "      selected_data[selected_data.complications == 1].caseid.nunique())"
   ]
  }
 ],
 "metadata": {
  "kernelspec": {
   "display_name": "Python 3",
   "language": "python",
   "name": "python3"
  },
  "language_info": {
   "codemirror_mode": {
    "name": "ipython",
    "version": 3
   },
   "file_extension": ".py",
   "mimetype": "text/x-python",
   "name": "python",
   "nbconvert_exporter": "python",
   "pygments_lexer": "ipython3",
   "version": "3.8.5"
  }
 },
 "nbformat": 4,
 "nbformat_minor": 5
}
