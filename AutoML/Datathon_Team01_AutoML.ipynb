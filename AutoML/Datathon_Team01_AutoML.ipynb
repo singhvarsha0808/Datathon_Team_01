{
 "cells": [
  {
   "cell_type": "markdown",
   "id": "Nm8CFLH2ZXBw",
   "metadata": {
    "id": "Nm8CFLH2ZXBw"
   },
   "source": [
    "<font size=\"6\">**Datathon- Auto ML**</font>\n",
    "\n"
   ]
  },
  {
   "cell_type": "code",
   "execution_count": 35,
   "id": "c4bc5ce4",
   "metadata": {
    "ExecuteTime": {
     "end_time": "2022-12-04T07:36:11.137459Z",
     "start_time": "2022-12-04T07:36:11.118458Z"
    },
    "id": "c4bc5ce4"
   },
   "outputs": [
    {
     "data": {
      "text/html": [
       "        <script type=\"text/javascript\">\n",
       "        window.PlotlyConfig = {MathJaxConfig: 'local'};\n",
       "        if (window.MathJax) {MathJax.Hub.Config({SVG: {font: \"STIX-Web\"}});}\n",
       "        if (typeof require !== 'undefined') {\n",
       "        require.undef(\"plotly\");\n",
       "        requirejs.config({\n",
       "            paths: {\n",
       "                'plotly': ['https://cdn.plot.ly/plotly-2.8.3.min']\n",
       "            }\n",
       "        });\n",
       "        require(['plotly'], function(Plotly) {\n",
       "            window._Plotly = Plotly;\n",
       "        });\n",
       "        }\n",
       "        </script>\n",
       "        "
      ]
     },
     "metadata": {},
     "output_type": "display_data"
    },
    {
     "data": {
      "text/html": [
       "        <script type=\"text/javascript\">\n",
       "        window.PlotlyConfig = {MathJaxConfig: 'local'};\n",
       "        if (window.MathJax) {MathJax.Hub.Config({SVG: {font: \"STIX-Web\"}});}\n",
       "        if (typeof require !== 'undefined') {\n",
       "        require.undef(\"plotly\");\n",
       "        requirejs.config({\n",
       "            paths: {\n",
       "                'plotly': ['https://cdn.plot.ly/plotly-2.8.3.min']\n",
       "            }\n",
       "        });\n",
       "        require(['plotly'], function(Plotly) {\n",
       "            window._Plotly = Plotly;\n",
       "        });\n",
       "        }\n",
       "        </script>\n",
       "        "
      ]
     },
     "metadata": {},
     "output_type": "display_data"
    }
   ],
   "source": [
    "#import libararies\n",
    "import pandas as pd\n",
    "import numpy as np\n",
    "import seaborn as sns\n",
    "import matplotlib.pyplot as plt\n",
    "import seaborn as sns\n",
    "import warnings\n",
    "warnings.filterwarnings(\"ignore\")\n",
    "\n",
    "import plotly.express as px\n",
    "from plotly.offline import init_notebook_mode, iplot, plot\n",
    "import plotly as py\n",
    "init_notebook_mode(connected = True)\n",
    "import plotly.graph_objs as go\n",
    "from plotly.subplots import make_subplots\n",
    "from plotly import tools\n",
    "\n",
    "import optuna  \n",
    "#from verstack import LGBMTuner\n",
    "\n",
    "import model_func\n",
    "#to make sure kernel restart is not needed after making changes in .py\n",
    "import importlib\n",
    "importlib.reload(model_func)\n",
    "\n",
    "from sklearn.linear_model import LogisticRegression\n",
    "from sklearn.linear_model import RidgeClassifier\n",
    "from sklearn.svm import SVC\n",
    "from sklearn.neighbors import KNeighborsClassifier\n",
    "from sklearn.ensemble import RandomForestClassifier\n",
    "from sklearn.ensemble import GradientBoostingClassifier\n",
    "from xgboost import XGBClassifier\n",
    "from lightgbm import LGBMClassifier\n",
    "from catboost import CatBoostClassifier\n",
    "\n",
    "from sklearn.model_selection import RandomizedSearchCV\n",
    "from sklearn.model_selection import train_test_split\n",
    "from sklearn.model_selection import GridSearchCV\n",
    "from sklearn.model_selection import cross_val_score\n",
    "from sklearn.model_selection import KFold\n",
    "from sklearn.model_selection import StratifiedKFold\n",
    "from sklearn.preprocessing import OneHotEncoder, StandardScaler, LabelEncoder\n",
    "\n",
    "import sklearn.metrics as metrics\n",
    "from sklearn.metrics import classification_report\n",
    "from sklearn.metrics import accuracy_score,confusion_matrix,f1_score,roc_curve, roc_auc_score, auc\n",
    "\n",
    "\n",
    "from sklearn.compose import ColumnTransformer\n",
    "from sklearn.compose import make_column_selector as selector\n",
    "\n",
    "from datetime import datetime\n"
   ]
  },
  {
   "cell_type": "markdown",
   "id": "96bd0367",
   "metadata": {},
   "source": [
    "# Machine Learnig Classification Models - AutoML"
   ]
  },
  {
   "cell_type": "code",
   "execution_count": 36,
   "id": "02920938",
   "metadata": {
    "ExecuteTime": {
     "end_time": "2022-12-04T07:36:36.235983Z",
     "start_time": "2022-12-04T07:36:32.438684Z"
    },
    "colab": {
     "base_uri": "https://localhost:8080/"
    },
    "id": "02920938",
    "outputId": "057ad8f1-4ba6-4fbe-acc6-44e3024b3b7c"
   },
   "outputs": [
    {
     "name": "stdout",
     "output_type": "stream",
     "text": [
      "(4221, 84)\n"
     ]
    }
   ],
   "source": [
    "df =  pd.read_excel('01_data_compiled_selected_patients_4221.xlsx')\n",
    "print(df.shape)"
   ]
  },
  {
   "cell_type": "code",
   "execution_count": 37,
   "id": "5ce11d4f",
   "metadata": {
    "ExecuteTime": {
     "end_time": "2022-12-04T07:36:36.443985Z",
     "start_time": "2022-12-04T07:36:36.369986Z"
    }
   },
   "outputs": [
    {
     "data": {
      "text/html": [
       "<div>\n",
       "<style scoped>\n",
       "    .dataframe tbody tr th:only-of-type {\n",
       "        vertical-align: middle;\n",
       "    }\n",
       "\n",
       "    .dataframe tbody tr th {\n",
       "        vertical-align: top;\n",
       "    }\n",
       "\n",
       "    .dataframe thead th {\n",
       "        text-align: right;\n",
       "    }\n",
       "</style>\n",
       "<table border=\"1\" class=\"dataframe\">\n",
       "  <thead>\n",
       "    <tr style=\"text-align: right;\">\n",
       "      <th></th>\n",
       "      <th>caseid</th>\n",
       "      <th>complications</th>\n",
       "      <th>icu_days</th>\n",
       "      <th>death_inhosp</th>\n",
       "      <th>pre_post_cr</th>\n",
       "      <th>age</th>\n",
       "      <th>sex</th>\n",
       "      <th>height</th>\n",
       "      <th>weight</th>\n",
       "      <th>bmi</th>\n",
       "      <th>asa</th>\n",
       "      <th>optype</th>\n",
       "      <th>approach</th>\n",
       "      <th>emop</th>\n",
       "      <th>ane_type</th>\n",
       "      <th>preop_htn</th>\n",
       "      <th>preop_dm</th>\n",
       "      <th>preop_pft</th>\n",
       "      <th>optype_00</th>\n",
       "      <th>optype_01</th>\n",
       "      <th>optype_02</th>\n",
       "      <th>optype_03</th>\n",
       "      <th>optype_04</th>\n",
       "      <th>optype_05</th>\n",
       "      <th>optype_06</th>\n",
       "      <th>optype_07</th>\n",
       "      <th>optype_08</th>\n",
       "      <th>optype_09</th>\n",
       "      <th>optype_10</th>\n",
       "      <th>approach_00</th>\n",
       "      <th>approach_01</th>\n",
       "      <th>approach_02</th>\n",
       "      <th>ane_type_00</th>\n",
       "      <th>ane_type_01</th>\n",
       "      <th>ane_type_02</th>\n",
       "      <th>preop_pft_00</th>\n",
       "      <th>preop_pft_01</th>\n",
       "      <th>preop_pft_02</th>\n",
       "      <th>preop_pft_03</th>\n",
       "      <th>preop_pft_04</th>\n",
       "      <th>preop_pft_05</th>\n",
       "      <th>preop_pft_06</th>\n",
       "      <th>preop_pft_07</th>\n",
       "      <th>preop_pft_08</th>\n",
       "      <th>asa_00</th>\n",
       "      <th>asa_01</th>\n",
       "      <th>asa_02</th>\n",
       "      <th>asa_03</th>\n",
       "      <th>asa_04</th>\n",
       "      <th>asa_05</th>\n",
       "      <th>b4_alb</th>\n",
       "      <th>b4_alt</th>\n",
       "      <th>b4_ammo</th>\n",
       "      <th>b4_aptt</th>\n",
       "      <th>b4_ast</th>\n",
       "      <th>b4_be</th>\n",
       "      <th>b4_bun</th>\n",
       "      <th>b4_ccr</th>\n",
       "      <th>b4_cl</th>\n",
       "      <th>b4_cr</th>\n",
       "      <th>b4_crp</th>\n",
       "      <th>b4_esr</th>\n",
       "      <th>b4_fib</th>\n",
       "      <th>b4_gfr</th>\n",
       "      <th>b4_gluc</th>\n",
       "      <th>b4_hb</th>\n",
       "      <th>b4_hco3</th>\n",
       "      <th>b4_hct</th>\n",
       "      <th>b4_ica</th>\n",
       "      <th>b4_k</th>\n",
       "      <th>b4_lac</th>\n",
       "      <th>b4_na</th>\n",
       "      <th>b4_p</th>\n",
       "      <th>b4_pco2</th>\n",
       "      <th>b4_ph</th>\n",
       "      <th>b4_plt</th>\n",
       "      <th>b4_po2</th>\n",
       "      <th>b4_pt%</th>\n",
       "      <th>b4_ptinr</th>\n",
       "      <th>b4_ptsec</th>\n",
       "      <th>b4_sao2</th>\n",
       "      <th>b4_tbil</th>\n",
       "      <th>b4_tprot</th>\n",
       "      <th>b4_wbc</th>\n",
       "    </tr>\n",
       "  </thead>\n",
       "  <tbody>\n",
       "    <tr>\n",
       "      <th>0</th>\n",
       "      <td>1</td>\n",
       "      <td>0</td>\n",
       "      <td>0</td>\n",
       "      <td>0</td>\n",
       "      <td>0.878049</td>\n",
       "      <td>77.0</td>\n",
       "      <td>0</td>\n",
       "      <td>160.2</td>\n",
       "      <td>67.50</td>\n",
       "      <td>26.3</td>\n",
       "      <td>cat02</td>\n",
       "      <td>Colorectal</td>\n",
       "      <td>Open</td>\n",
       "      <td>0</td>\n",
       "      <td>General</td>\n",
       "      <td>1</td>\n",
       "      <td>0</td>\n",
       "      <td>Normal</td>\n",
       "      <td>1</td>\n",
       "      <td>0</td>\n",
       "      <td>0</td>\n",
       "      <td>0</td>\n",
       "      <td>0</td>\n",
       "      <td>0</td>\n",
       "      <td>0</td>\n",
       "      <td>0</td>\n",
       "      <td>0</td>\n",
       "      <td>0</td>\n",
       "      <td>0</td>\n",
       "      <td>1</td>\n",
       "      <td>0</td>\n",
       "      <td>0</td>\n",
       "      <td>1</td>\n",
       "      <td>0</td>\n",
       "      <td>0</td>\n",
       "      <td>1</td>\n",
       "      <td>0</td>\n",
       "      <td>0</td>\n",
       "      <td>0</td>\n",
       "      <td>0</td>\n",
       "      <td>0</td>\n",
       "      <td>0</td>\n",
       "      <td>0</td>\n",
       "      <td>0</td>\n",
       "      <td>1</td>\n",
       "      <td>0</td>\n",
       "      <td>0</td>\n",
       "      <td>0</td>\n",
       "      <td>0</td>\n",
       "      <td>0</td>\n",
       "      <td>3.4</td>\n",
       "      <td>20.0</td>\n",
       "      <td>NaN</td>\n",
       "      <td>28.0</td>\n",
       "      <td>20.0</td>\n",
       "      <td>NaN</td>\n",
       "      <td>15.0</td>\n",
       "      <td>NaN</td>\n",
       "      <td>100.0</td>\n",
       "      <td>0.88</td>\n",
       "      <td>22.41</td>\n",
       "      <td>NaN</td>\n",
       "      <td>254.0</td>\n",
       "      <td>83.8</td>\n",
       "      <td>198.0</td>\n",
       "      <td>13.4</td>\n",
       "      <td>NaN</td>\n",
       "      <td>38.9</td>\n",
       "      <td>NaN</td>\n",
       "      <td>3.1</td>\n",
       "      <td>NaN</td>\n",
       "      <td>138.0</td>\n",
       "      <td>NaN</td>\n",
       "      <td>NaN</td>\n",
       "      <td>NaN</td>\n",
       "      <td>146.0</td>\n",
       "      <td>NaN</td>\n",
       "      <td>89.0</td>\n",
       "      <td>1.08</td>\n",
       "      <td>12.3</td>\n",
       "      <td>NaN</td>\n",
       "      <td>0.8</td>\n",
       "      <td>6.2</td>\n",
       "      <td>15.16</td>\n",
       "    </tr>\n",
       "    <tr>\n",
       "      <th>1</th>\n",
       "      <td>2</td>\n",
       "      <td>0</td>\n",
       "      <td>0</td>\n",
       "      <td>0</td>\n",
       "      <td>0.953488</td>\n",
       "      <td>54.0</td>\n",
       "      <td>0</td>\n",
       "      <td>167.3</td>\n",
       "      <td>54.80</td>\n",
       "      <td>19.6</td>\n",
       "      <td>cat02</td>\n",
       "      <td>Stomach</td>\n",
       "      <td>Open</td>\n",
       "      <td>0</td>\n",
       "      <td>General</td>\n",
       "      <td>0</td>\n",
       "      <td>0</td>\n",
       "      <td>Normal</td>\n",
       "      <td>0</td>\n",
       "      <td>0</td>\n",
       "      <td>1</td>\n",
       "      <td>0</td>\n",
       "      <td>0</td>\n",
       "      <td>0</td>\n",
       "      <td>0</td>\n",
       "      <td>0</td>\n",
       "      <td>0</td>\n",
       "      <td>0</td>\n",
       "      <td>0</td>\n",
       "      <td>1</td>\n",
       "      <td>0</td>\n",
       "      <td>0</td>\n",
       "      <td>1</td>\n",
       "      <td>0</td>\n",
       "      <td>0</td>\n",
       "      <td>1</td>\n",
       "      <td>0</td>\n",
       "      <td>0</td>\n",
       "      <td>0</td>\n",
       "      <td>0</td>\n",
       "      <td>0</td>\n",
       "      <td>0</td>\n",
       "      <td>0</td>\n",
       "      <td>0</td>\n",
       "      <td>1</td>\n",
       "      <td>0</td>\n",
       "      <td>0</td>\n",
       "      <td>0</td>\n",
       "      <td>0</td>\n",
       "      <td>0</td>\n",
       "      <td>3.1</td>\n",
       "      <td>19.0</td>\n",
       "      <td>NaN</td>\n",
       "      <td>28.6</td>\n",
       "      <td>29.0</td>\n",
       "      <td>NaN</td>\n",
       "      <td>12.0</td>\n",
       "      <td>NaN</td>\n",
       "      <td>115.0</td>\n",
       "      <td>1.02</td>\n",
       "      <td>16.18</td>\n",
       "      <td>NaN</td>\n",
       "      <td>290.0</td>\n",
       "      <td>75.9</td>\n",
       "      <td>118.0</td>\n",
       "      <td>10.2</td>\n",
       "      <td>NaN</td>\n",
       "      <td>32.5</td>\n",
       "      <td>NaN</td>\n",
       "      <td>4.7</td>\n",
       "      <td>NaN</td>\n",
       "      <td>143.0</td>\n",
       "      <td>NaN</td>\n",
       "      <td>NaN</td>\n",
       "      <td>NaN</td>\n",
       "      <td>251.0</td>\n",
       "      <td>NaN</td>\n",
       "      <td>104.0</td>\n",
       "      <td>0.97</td>\n",
       "      <td>11.1</td>\n",
       "      <td>NaN</td>\n",
       "      <td>0.5</td>\n",
       "      <td>5.2</td>\n",
       "      <td>4.36</td>\n",
       "    </tr>\n",
       "    <tr>\n",
       "      <th>2</th>\n",
       "      <td>7</td>\n",
       "      <td>1</td>\n",
       "      <td>3</td>\n",
       "      <td>0</td>\n",
       "      <td>NaN</td>\n",
       "      <td>52.0</td>\n",
       "      <td>1</td>\n",
       "      <td>167.7</td>\n",
       "      <td>62.30</td>\n",
       "      <td>22.2</td>\n",
       "      <td>cat02</td>\n",
       "      <td>Major resection</td>\n",
       "      <td>Videoscopic</td>\n",
       "      <td>0</td>\n",
       "      <td>General</td>\n",
       "      <td>0</td>\n",
       "      <td>0</td>\n",
       "      <td>Normal</td>\n",
       "      <td>0</td>\n",
       "      <td>0</td>\n",
       "      <td>0</td>\n",
       "      <td>1</td>\n",
       "      <td>0</td>\n",
       "      <td>0</td>\n",
       "      <td>0</td>\n",
       "      <td>0</td>\n",
       "      <td>0</td>\n",
       "      <td>0</td>\n",
       "      <td>0</td>\n",
       "      <td>0</td>\n",
       "      <td>1</td>\n",
       "      <td>0</td>\n",
       "      <td>1</td>\n",
       "      <td>0</td>\n",
       "      <td>0</td>\n",
       "      <td>1</td>\n",
       "      <td>0</td>\n",
       "      <td>0</td>\n",
       "      <td>0</td>\n",
       "      <td>0</td>\n",
       "      <td>0</td>\n",
       "      <td>0</td>\n",
       "      <td>0</td>\n",
       "      <td>0</td>\n",
       "      <td>1</td>\n",
       "      <td>0</td>\n",
       "      <td>0</td>\n",
       "      <td>0</td>\n",
       "      <td>0</td>\n",
       "      <td>0</td>\n",
       "      <td>4.4</td>\n",
       "      <td>16.0</td>\n",
       "      <td>NaN</td>\n",
       "      <td>26.4</td>\n",
       "      <td>20.0</td>\n",
       "      <td>0.8</td>\n",
       "      <td>18.0</td>\n",
       "      <td>NaN</td>\n",
       "      <td>106.0</td>\n",
       "      <td>0.84</td>\n",
       "      <td>0.09</td>\n",
       "      <td>NaN</td>\n",
       "      <td>271.0</td>\n",
       "      <td>70.9</td>\n",
       "      <td>94.0</td>\n",
       "      <td>11.8</td>\n",
       "      <td>25.4</td>\n",
       "      <td>35.1</td>\n",
       "      <td>1.17</td>\n",
       "      <td>4.4</td>\n",
       "      <td>1.2</td>\n",
       "      <td>139.0</td>\n",
       "      <td>NaN</td>\n",
       "      <td>47.0</td>\n",
       "      <td>7.34</td>\n",
       "      <td>229.0</td>\n",
       "      <td>154.0</td>\n",
       "      <td>109.0</td>\n",
       "      <td>0.95</td>\n",
       "      <td>10.8</td>\n",
       "      <td>99.0</td>\n",
       "      <td>0.4</td>\n",
       "      <td>7.4</td>\n",
       "      <td>4.28</td>\n",
       "    </tr>\n",
       "    <tr>\n",
       "      <th>3</th>\n",
       "      <td>9</td>\n",
       "      <td>0</td>\n",
       "      <td>0</td>\n",
       "      <td>0</td>\n",
       "      <td>NaN</td>\n",
       "      <td>32.0</td>\n",
       "      <td>1</td>\n",
       "      <td>157.9</td>\n",
       "      <td>50.90</td>\n",
       "      <td>20.4</td>\n",
       "      <td>cat01</td>\n",
       "      <td>Biliary/Pancreas</td>\n",
       "      <td>Videoscopic</td>\n",
       "      <td>0</td>\n",
       "      <td>General</td>\n",
       "      <td>0</td>\n",
       "      <td>0</td>\n",
       "      <td>Normal</td>\n",
       "      <td>0</td>\n",
       "      <td>1</td>\n",
       "      <td>0</td>\n",
       "      <td>0</td>\n",
       "      <td>0</td>\n",
       "      <td>0</td>\n",
       "      <td>0</td>\n",
       "      <td>0</td>\n",
       "      <td>0</td>\n",
       "      <td>0</td>\n",
       "      <td>0</td>\n",
       "      <td>0</td>\n",
       "      <td>1</td>\n",
       "      <td>0</td>\n",
       "      <td>1</td>\n",
       "      <td>0</td>\n",
       "      <td>0</td>\n",
       "      <td>1</td>\n",
       "      <td>0</td>\n",
       "      <td>0</td>\n",
       "      <td>0</td>\n",
       "      <td>0</td>\n",
       "      <td>0</td>\n",
       "      <td>0</td>\n",
       "      <td>0</td>\n",
       "      <td>0</td>\n",
       "      <td>0</td>\n",
       "      <td>1</td>\n",
       "      <td>0</td>\n",
       "      <td>0</td>\n",
       "      <td>0</td>\n",
       "      <td>0</td>\n",
       "      <td>4.4</td>\n",
       "      <td>8.0</td>\n",
       "      <td>NaN</td>\n",
       "      <td>NaN</td>\n",
       "      <td>13.0</td>\n",
       "      <td>NaN</td>\n",
       "      <td>NaN</td>\n",
       "      <td>NaN</td>\n",
       "      <td>NaN</td>\n",
       "      <td>NaN</td>\n",
       "      <td>NaN</td>\n",
       "      <td>NaN</td>\n",
       "      <td>NaN</td>\n",
       "      <td>NaN</td>\n",
       "      <td>NaN</td>\n",
       "      <td>12.8</td>\n",
       "      <td>NaN</td>\n",
       "      <td>39.5</td>\n",
       "      <td>NaN</td>\n",
       "      <td>NaN</td>\n",
       "      <td>NaN</td>\n",
       "      <td>NaN</td>\n",
       "      <td>NaN</td>\n",
       "      <td>NaN</td>\n",
       "      <td>NaN</td>\n",
       "      <td>133.0</td>\n",
       "      <td>NaN</td>\n",
       "      <td>NaN</td>\n",
       "      <td>NaN</td>\n",
       "      <td>NaN</td>\n",
       "      <td>NaN</td>\n",
       "      <td>0.8</td>\n",
       "      <td>7.2</td>\n",
       "      <td>11.30</td>\n",
       "    </tr>\n",
       "    <tr>\n",
       "      <th>4</th>\n",
       "      <td>10</td>\n",
       "      <td>0</td>\n",
       "      <td>1</td>\n",
       "      <td>0</td>\n",
       "      <td>0.725000</td>\n",
       "      <td>72.0</td>\n",
       "      <td>0</td>\n",
       "      <td>162.5</td>\n",
       "      <td>62.75</td>\n",
       "      <td>23.8</td>\n",
       "      <td>cat03</td>\n",
       "      <td>Stomach</td>\n",
       "      <td>Videoscopic</td>\n",
       "      <td>0</td>\n",
       "      <td>General</td>\n",
       "      <td>1</td>\n",
       "      <td>0</td>\n",
       "      <td>Normal</td>\n",
       "      <td>0</td>\n",
       "      <td>0</td>\n",
       "      <td>1</td>\n",
       "      <td>0</td>\n",
       "      <td>0</td>\n",
       "      <td>0</td>\n",
       "      <td>0</td>\n",
       "      <td>0</td>\n",
       "      <td>0</td>\n",
       "      <td>0</td>\n",
       "      <td>0</td>\n",
       "      <td>0</td>\n",
       "      <td>1</td>\n",
       "      <td>0</td>\n",
       "      <td>1</td>\n",
       "      <td>0</td>\n",
       "      <td>0</td>\n",
       "      <td>1</td>\n",
       "      <td>0</td>\n",
       "      <td>0</td>\n",
       "      <td>0</td>\n",
       "      <td>0</td>\n",
       "      <td>0</td>\n",
       "      <td>0</td>\n",
       "      <td>0</td>\n",
       "      <td>0</td>\n",
       "      <td>0</td>\n",
       "      <td>0</td>\n",
       "      <td>1</td>\n",
       "      <td>0</td>\n",
       "      <td>0</td>\n",
       "      <td>0</td>\n",
       "      <td>3.2</td>\n",
       "      <td>54.0</td>\n",
       "      <td>NaN</td>\n",
       "      <td>27.3</td>\n",
       "      <td>57.0</td>\n",
       "      <td>NaN</td>\n",
       "      <td>18.0</td>\n",
       "      <td>NaN</td>\n",
       "      <td>104.0</td>\n",
       "      <td>1.15</td>\n",
       "      <td>0.10</td>\n",
       "      <td>NaN</td>\n",
       "      <td>336.0</td>\n",
       "      <td>62.5</td>\n",
       "      <td>315.0</td>\n",
       "      <td>13.6</td>\n",
       "      <td>NaN</td>\n",
       "      <td>40.3</td>\n",
       "      <td>NaN</td>\n",
       "      <td>5.4</td>\n",
       "      <td>NaN</td>\n",
       "      <td>139.0</td>\n",
       "      <td>3.5</td>\n",
       "      <td>NaN</td>\n",
       "      <td>NaN</td>\n",
       "      <td>195.0</td>\n",
       "      <td>NaN</td>\n",
       "      <td>93.0</td>\n",
       "      <td>1.04</td>\n",
       "      <td>11.9</td>\n",
       "      <td>NaN</td>\n",
       "      <td>0.9</td>\n",
       "      <td>5.6</td>\n",
       "      <td>13.38</td>\n",
       "    </tr>\n",
       "  </tbody>\n",
       "</table>\n",
       "</div>"
      ],
      "text/plain": [
       "   caseid  complications  icu_days  death_inhosp  pre_post_cr   age  sex  \\\n",
       "0       1              0         0             0     0.878049  77.0    0   \n",
       "1       2              0         0             0     0.953488  54.0    0   \n",
       "2       7              1         3             0          NaN  52.0    1   \n",
       "3       9              0         0             0          NaN  32.0    1   \n",
       "4      10              0         1             0     0.725000  72.0    0   \n",
       "\n",
       "   height  weight   bmi    asa            optype     approach  emop ane_type  \\\n",
       "0   160.2   67.50  26.3  cat02        Colorectal         Open     0  General   \n",
       "1   167.3   54.80  19.6  cat02           Stomach         Open     0  General   \n",
       "2   167.7   62.30  22.2  cat02   Major resection  Videoscopic     0  General   \n",
       "3   157.9   50.90  20.4  cat01  Biliary/Pancreas  Videoscopic     0  General   \n",
       "4   162.5   62.75  23.8  cat03           Stomach  Videoscopic     0  General   \n",
       "\n",
       "   preop_htn  preop_dm preop_pft  optype_00  optype_01  optype_02  optype_03  \\\n",
       "0          1         0    Normal          1          0          0          0   \n",
       "1          0         0    Normal          0          0          1          0   \n",
       "2          0         0    Normal          0          0          0          1   \n",
       "3          0         0    Normal          0          1          0          0   \n",
       "4          1         0    Normal          0          0          1          0   \n",
       "\n",
       "   optype_04  optype_05  optype_06  optype_07  optype_08  optype_09  \\\n",
       "0          0          0          0          0          0          0   \n",
       "1          0          0          0          0          0          0   \n",
       "2          0          0          0          0          0          0   \n",
       "3          0          0          0          0          0          0   \n",
       "4          0          0          0          0          0          0   \n",
       "\n",
       "   optype_10  approach_00  approach_01  approach_02  ane_type_00  ane_type_01  \\\n",
       "0          0            1            0            0            1            0   \n",
       "1          0            1            0            0            1            0   \n",
       "2          0            0            1            0            1            0   \n",
       "3          0            0            1            0            1            0   \n",
       "4          0            0            1            0            1            0   \n",
       "\n",
       "   ane_type_02  preop_pft_00  preop_pft_01  preop_pft_02  preop_pft_03  \\\n",
       "0            0             1             0             0             0   \n",
       "1            0             1             0             0             0   \n",
       "2            0             1             0             0             0   \n",
       "3            0             1             0             0             0   \n",
       "4            0             1             0             0             0   \n",
       "\n",
       "   preop_pft_04  preop_pft_05  preop_pft_06  preop_pft_07  preop_pft_08  \\\n",
       "0             0             0             0             0             0   \n",
       "1             0             0             0             0             0   \n",
       "2             0             0             0             0             0   \n",
       "3             0             0             0             0             0   \n",
       "4             0             0             0             0             0   \n",
       "\n",
       "   asa_00  asa_01  asa_02  asa_03  asa_04  asa_05  b4_alb  b4_alt  b4_ammo  \\\n",
       "0       1       0       0       0       0       0     3.4    20.0      NaN   \n",
       "1       1       0       0       0       0       0     3.1    19.0      NaN   \n",
       "2       1       0       0       0       0       0     4.4    16.0      NaN   \n",
       "3       0       1       0       0       0       0     4.4     8.0      NaN   \n",
       "4       0       0       1       0       0       0     3.2    54.0      NaN   \n",
       "\n",
       "   b4_aptt  b4_ast  b4_be  b4_bun  b4_ccr  b4_cl  b4_cr  b4_crp  b4_esr  \\\n",
       "0     28.0    20.0    NaN    15.0     NaN  100.0   0.88   22.41     NaN   \n",
       "1     28.6    29.0    NaN    12.0     NaN  115.0   1.02   16.18     NaN   \n",
       "2     26.4    20.0    0.8    18.0     NaN  106.0   0.84    0.09     NaN   \n",
       "3      NaN    13.0    NaN     NaN     NaN    NaN    NaN     NaN     NaN   \n",
       "4     27.3    57.0    NaN    18.0     NaN  104.0   1.15    0.10     NaN   \n",
       "\n",
       "   b4_fib  b4_gfr  b4_gluc  b4_hb  b4_hco3  b4_hct  b4_ica  b4_k  b4_lac  \\\n",
       "0   254.0    83.8    198.0   13.4      NaN    38.9     NaN   3.1     NaN   \n",
       "1   290.0    75.9    118.0   10.2      NaN    32.5     NaN   4.7     NaN   \n",
       "2   271.0    70.9     94.0   11.8     25.4    35.1    1.17   4.4     1.2   \n",
       "3     NaN     NaN      NaN   12.8      NaN    39.5     NaN   NaN     NaN   \n",
       "4   336.0    62.5    315.0   13.6      NaN    40.3     NaN   5.4     NaN   \n",
       "\n",
       "   b4_na  b4_p  b4_pco2  b4_ph  b4_plt  b4_po2  b4_pt%  b4_ptinr  b4_ptsec  \\\n",
       "0  138.0   NaN      NaN    NaN   146.0     NaN    89.0      1.08      12.3   \n",
       "1  143.0   NaN      NaN    NaN   251.0     NaN   104.0      0.97      11.1   \n",
       "2  139.0   NaN     47.0   7.34   229.0   154.0   109.0      0.95      10.8   \n",
       "3    NaN   NaN      NaN    NaN   133.0     NaN     NaN       NaN       NaN   \n",
       "4  139.0   3.5      NaN    NaN   195.0     NaN    93.0      1.04      11.9   \n",
       "\n",
       "   b4_sao2  b4_tbil  b4_tprot  b4_wbc  \n",
       "0      NaN      0.8       6.2   15.16  \n",
       "1      NaN      0.5       5.2    4.36  \n",
       "2     99.0      0.4       7.4    4.28  \n",
       "3      NaN      0.8       7.2   11.30  \n",
       "4      NaN      0.9       5.6   13.38  "
      ]
     },
     "execution_count": 37,
     "metadata": {},
     "output_type": "execute_result"
    }
   ],
   "source": [
    "#display all columns\n",
    "pd.set_option(\"display.max_columns\",None)\n",
    "df.head()"
   ]
  },
  {
   "cell_type": "markdown",
   "id": "7446e152",
   "metadata": {},
   "source": [
    "## Feature Engineering "
   ]
  },
  {
   "cell_type": "code",
   "execution_count": 38,
   "id": "51dbd047",
   "metadata": {
    "ExecuteTime": {
     "end_time": "2022-12-04T07:36:46.674258Z",
     "start_time": "2022-12-04T07:36:46.666257Z"
    }
   },
   "outputs": [
    {
     "data": {
      "text/plain": [
       "0    3957\n",
       "1     264\n",
       "Name: complications, dtype: int64"
      ]
     },
     "execution_count": 38,
     "metadata": {},
     "output_type": "execute_result"
    }
   ],
   "source": [
    "df['complications'].value_counts()"
   ]
  },
  {
   "cell_type": "code",
   "execution_count": 39,
   "id": "437f4883",
   "metadata": {
    "ExecuteTime": {
     "end_time": "2022-12-04T07:36:50.057299Z",
     "start_time": "2022-12-04T07:36:50.048298Z"
    }
   },
   "outputs": [],
   "source": [
    "#dropping not required and categorical features\n",
    "df= df.drop(['death_inhosp','caseid','icu_days','height','weight','pre_post_cr','approach',\\\n",
    "             'ane_type','asa', 'optype','preop_pft'],axis= 1)\n",
    "#df = df.drop(df.filter(regex='b4').columns, axis=1)\n",
    "#df = df.drop(df.filter(regex='optype_').columns, axis=1)\n",
    "#df = df.drop(df.filter(regex='preop_pft_').columns, axis=1)"
   ]
  },
  {
   "cell_type": "markdown",
   "id": "d76dfa60",
   "metadata": {},
   "source": [
    "## Train - Test Split"
   ]
  },
  {
   "cell_type": "code",
   "execution_count": 40,
   "id": "4e63721e",
   "metadata": {
    "ExecuteTime": {
     "end_time": "2022-12-04T07:37:11.406506Z",
     "start_time": "2022-12-04T07:37:11.391505Z"
    }
   },
   "outputs": [
    {
     "name": "stdout",
     "output_type": "stream",
     "text": [
      "(4221, 72), (3376, 72), (845, 72)\n"
     ]
    }
   ],
   "source": [
    "# X - all the feature columns except target variable\n",
    "X= df.drop(['complications'],axis= 1)\n",
    "# y - target variable\n",
    "y= df['complications']\n",
    "\n",
    "#80% training data set and 20% validation set\n",
    "X_train, X_test, y_train, y_test = train_test_split( X, y, test_size=0.2, random_state=42)\n",
    "print(\"%r, %r, %r\" % (X.shape, X_train.shape, X_test.shape))"
   ]
  },
  {
   "cell_type": "markdown",
   "id": "a488ed95",
   "metadata": {},
   "source": [
    "# AUTOML"
   ]
  },
  {
   "cell_type": "markdown",
   "id": "aee5ba87",
   "metadata": {},
   "source": [
    "## tpot"
   ]
  },
  {
   "cell_type": "code",
   "execution_count": 41,
   "id": "e4577a64",
   "metadata": {
    "ExecuteTime": {
     "end_time": "2022-12-04T07:37:23.056021Z",
     "start_time": "2022-12-04T07:37:23.053018Z"
    }
   },
   "outputs": [],
   "source": [
    "import tpot\n",
    "from tpot import TPOTClassifier"
   ]
  },
  {
   "cell_type": "code",
   "execution_count": null,
   "id": "a0aec069",
   "metadata": {
    "ExecuteTime": {
     "start_time": "2022-12-04T07:47:11.481Z"
    }
   },
   "outputs": [
    {
     "name": "stdout",
     "output_type": "stream",
     "text": [
      "Imputing missing values in feature set\n"
     ]
    },
    {
     "data": {
      "application/vnd.jupyter.widget-view+json": {
       "model_id": "04eb025242804f52aef2f1252c61ecfa",
       "version_major": 2,
       "version_minor": 0
      },
      "text/plain": [
       "Optimization Progress:   0%|          | 0/180 [00:00<?, ?pipeline/s]"
      ]
     },
     "metadata": {},
     "output_type": "display_data"
    },
    {
     "name": "stdout",
     "output_type": "stream",
     "text": [
      "\n",
      "Generation 1 - Current best internal CV score: 0.8738662943777019\n"
     ]
    }
   ],
   "source": [
    "%%time\n",
    "tpot = TPOTClassifier(generations=5, population_size=30,\n",
    "                          offspring_size=None,\n",
    "                          scoring='roc_auc',\n",
    "                          max_time_mins=None, \n",
    "                          max_eval_time_mins=5,\n",
    "                          random_state=101,\n",
    "                          warm_start=True,\n",
    "                          early_stop=20,\n",
    "                          verbosity=2)\n",
    "tpot.fit(X_train, y_train)"
   ]
  },
  {
   "cell_type": "code",
   "execution_count": 43,
   "id": "d359e593",
   "metadata": {
    "ExecuteTime": {
     "end_time": "2022-12-04T07:47:03.507776Z",
     "start_time": "2022-12-04T07:47:03.457767Z"
    }
   },
   "outputs": [
    {
     "name": "stdout",
     "output_type": "stream",
     "text": [
      "Imputing missing values in feature set\n"
     ]
    },
    {
     "data": {
      "text/plain": [
       "0.9067085953878409"
      ]
     },
     "execution_count": 43,
     "metadata": {},
     "output_type": "execute_result"
    }
   ],
   "source": [
    "tpot.score(X_test, y_test)"
   ]
  },
  {
   "cell_type": "code",
   "execution_count": 44,
   "id": "5a54fb12",
   "metadata": {
    "ExecuteTime": {
     "end_time": "2022-12-04T07:47:03.568770Z",
     "start_time": "2022-12-04T07:47:03.510771Z"
    }
   },
   "outputs": [
    {
     "name": "stdout",
     "output_type": "stream",
     "text": [
      "Imputing missing values in feature set\n",
      "              precision    recall  f1-score   support\n",
      "\n",
      "           0       0.95      1.00      0.97       792\n",
      "           1       0.92      0.23      0.36        53\n",
      "\n",
      "    accuracy                           0.95       845\n",
      "   macro avg       0.94      0.61      0.67       845\n",
      "weighted avg       0.95      0.95      0.94       845\n",
      "\n"
     ]
    }
   ],
   "source": [
    "print(classification_report(y_test, tpot.predict(X_test)))"
   ]
  },
  {
   "cell_type": "code",
   "execution_count": 45,
   "id": "ba836cd4",
   "metadata": {
    "ExecuteTime": {
     "end_time": "2022-12-04T07:47:03.625773Z",
     "start_time": "2022-12-04T07:47:03.572770Z"
    }
   },
   "outputs": [
    {
     "name": "stdout",
     "output_type": "stream",
     "text": [
      "Imputing missing values in feature set\n"
     ]
    },
    {
     "data": {
      "text/plain": [
       "array([[791,   1],\n",
       "       [ 41,  12]], dtype=int64)"
      ]
     },
     "execution_count": 45,
     "metadata": {},
     "output_type": "execute_result"
    }
   ],
   "source": [
    "confusion_matrix = metrics.confusion_matrix(y_test, tpot.predict(X_test))\n",
    "confusion_matrix"
   ]
  },
  {
   "cell_type": "markdown",
   "id": "2b4b5369",
   "metadata": {},
   "source": [
    "# Appendix"
   ]
  },
  {
   "cell_type": "markdown",
   "id": "b8b8e18f",
   "metadata": {},
   "source": [
    "## Auto-Sklearn"
   ]
  },
  {
   "cell_type": "code",
   "execution_count": null,
   "id": "97959a0d",
   "metadata": {
    "ExecuteTime": {
     "end_time": "2022-12-04T05:11:28.912803Z",
     "start_time": "2022-12-04T05:07:31.066110Z"
    },
    "scrolled": false
   },
   "outputs": [],
   "source": [
    "pip install auto-sklearn"
   ]
  },
  {
   "cell_type": "code",
   "execution_count": 33,
   "id": "cf758b0c",
   "metadata": {
    "ExecuteTime": {
     "end_time": "2022-12-04T05:07:16.837236Z",
     "start_time": "2022-12-04T05:07:16.816235Z"
    }
   },
   "outputs": [
    {
     "ename": "ModuleNotFoundError",
     "evalue": "No module named 'autosklearn'",
     "output_type": "error",
     "traceback": [
      "\u001b[1;31m---------------------------------------------------------------------------\u001b[0m",
      "\u001b[1;31mModuleNotFoundError\u001b[0m                       Traceback (most recent call last)",
      "Input \u001b[1;32mIn [33]\u001b[0m, in \u001b[0;36m<cell line: 1>\u001b[1;34m()\u001b[0m\n\u001b[1;32m----> 1\u001b[0m \u001b[38;5;28;01mimport\u001b[39;00m \u001b[38;5;21;01mautosklearn\u001b[39;00m\u001b[38;5;21;01m.\u001b[39;00m\u001b[38;5;21;01mclassification\u001b[39;00m \n\u001b[0;32m      2\u001b[0m \u001b[38;5;66;03m# configure auto-sklearn\u001b[39;00m\n\u001b[0;32m      3\u001b[0m automl \u001b[38;5;241m=\u001b[39m autosklearn\u001b[38;5;241m.\u001b[39mclassification\u001b[38;5;241m.\u001b[39mAutoSklearnClassifier(\n\u001b[0;32m      4\u001b[0m                                     time_left_for_this_task\u001b[38;5;241m=\u001b[39m\u001b[38;5;241m30\u001b[39m, \n\u001b[0;32m      5\u001b[0m                                     per_run_time_limit\u001b[38;5;241m=\u001b[39m\u001b[38;5;241m10\u001b[39m)\n",
      "\u001b[1;31mModuleNotFoundError\u001b[0m: No module named 'autosklearn'"
     ]
    }
   ],
   "source": [
    "import autosklearn.classification \n",
    "# configure auto-sklearn\n",
    "automl = autosklearn.classification.AutoSklearnClassifier(\n",
    "                                    time_left_for_this_task=30, \n",
    "                                    per_run_time_limit=10)"
   ]
  },
  {
   "cell_type": "code",
   "execution_count": null,
   "id": "6ddff52f",
   "metadata": {},
   "outputs": [],
   "source": [
    "automl.fit(X_test, y_train)"
   ]
  },
  {
   "cell_type": "code",
   "execution_count": null,
   "id": "4c06a53f",
   "metadata": {},
   "outputs": [],
   "source": [
    "# evaluate\n",
    "pred = automl.predict(X_test)\n",
    "print(classification_report(y_test, pred))"
   ]
  },
  {
   "cell_type": "code",
   "execution_count": null,
   "id": "a5d16a73",
   "metadata": {},
   "outputs": [],
   "source": [
    "confusion_matrix = metrics.confusion_matrix(y_test, y_pred)\n",
    "confusion_matrix"
   ]
  },
  {
   "cell_type": "markdown",
   "id": "491e8459",
   "metadata": {},
   "source": [
    "## MLBox"
   ]
  },
  {
   "cell_type": "code",
   "execution_count": null,
   "id": "a2c44dee",
   "metadata": {},
   "outputs": [],
   "source": []
  },
  {
   "cell_type": "code",
   "execution_count": null,
   "id": "81da20af",
   "metadata": {},
   "outputs": [],
   "source": []
  },
  {
   "cell_type": "markdown",
   "id": "5b154e0d",
   "metadata": {},
   "source": [
    "## H2O"
   ]
  }
 ],
 "metadata": {
  "colab": {
   "collapsed_sections": [],
   "provenance": []
  },
  "kernelspec": {
   "display_name": "Python 3 (ipykernel)",
   "language": "python",
   "name": "python3"
  },
  "language_info": {
   "codemirror_mode": {
    "name": "ipython",
    "version": 3
   },
   "file_extension": ".py",
   "mimetype": "text/x-python",
   "name": "python",
   "nbconvert_exporter": "python",
   "pygments_lexer": "ipython3",
   "version": "3.9.7"
  },
  "toc": {
   "base_numbering": 1,
   "nav_menu": {},
   "number_sections": true,
   "sideBar": true,
   "skip_h1_title": false,
   "title_cell": "Table of Contents",
   "title_sidebar": "Contents",
   "toc_cell": false,
   "toc_position": {
    "height": "calc(100% - 180px)",
    "left": "10px",
    "top": "150px",
    "width": "320px"
   },
   "toc_section_display": true,
   "toc_window_display": true
  }
 },
 "nbformat": 4,
 "nbformat_minor": 5
}
